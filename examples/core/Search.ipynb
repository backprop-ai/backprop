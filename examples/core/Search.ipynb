{
 "cells": [
  {
   "cell_type": "markdown",
   "metadata": {},
   "source": [
    "# Kiri Core Example: Semantic Search\n",
    "\n",
    "This is a notebook that walks through some of the core functionality of Kiri's semantic search."
   ]
  },
  {
   "cell_type": "markdown",
   "metadata": {},
   "source": [
    "# Search\n",
    "\n",
    "We've got two flavors to look at: In-memory, and Elastic-based search.\n",
    "\n",
    "The in-memory version is meant for local testing, experimenting -- dev stuff.\n",
    "\n",
    "Using an Elastic backend is more suitable for production.\n",
    "\n",
    "We'll start with memory."
   ]
  },
  {
   "cell_type": "code",
   "execution_count": 1,
   "metadata": {},
   "outputs": [],
   "source": [
    "# If you've got one, change it here.\n",
    "api_key = None"
   ]
  },
  {
   "cell_type": "code",
   "execution_count": 2,
   "metadata": {},
   "outputs": [],
   "source": [
    "from kiri import Kiri, InMemoryDocStore\n",
    "\n",
    "\n",
    "# If a DocStore isn't provided when Kiri is instantiated, it'll default to an InMemoryDocStore. \n",
    "# Explicitness here for clarity.\n",
    "m_doc_store = InMemoryDocStore()\n",
    "\n",
    "if api_key:\n",
    "    kiri = Kiri(m_doc_store, api_key=api_key)\n",
    "else:\n",
    "    kiri = Kiri(m_doc_store, local=True)"
   ]
  },
  {
   "cell_type": "markdown",
   "metadata": {},
   "source": [
    "### Documents\n",
    "\n",
    "Documents are the base object on which much of Kiri operates.\n",
    "\n",
    "At their simplest, they're a wrapper for a string of content.\n",
    "\n",
    "Upon uploading a document to a DocStore, it is processed -- the \n",
    "`vectorise_model` parameter of the Kiri Core is used to encode \n",
    "the entire document as a vector, which is then used for search.\n",
    "\n",
    "There are variants of Documents that will be covered later."
   ]
  },
  {
   "cell_type": "code",
   "execution_count": 3,
   "metadata": {},
   "outputs": [],
   "source": [
    "from kiri import Document\n",
    "\n",
    "\n",
    "# The only required argument for a Document is some text content\n",
    "content = \"The Kiri Natural Language Engine is a high-level library for NLP tasks: a sweet suite of modules.\"\n",
    "\n",
    "# Doc attributes are abritray -- put in whatever metadata you might need for your use case.\n",
    "attributes = {\"title\": \"Kiri Search Demo\", \"url\": \"https://kiri.ai\"}\n",
    "\n",
    "doc = Document(content=content, attributes=attributes)\n",
    "\n",
    "kiri.upload([doc])"
   ]
  },
  {
   "cell_type": "markdown",
   "metadata": {},
   "source": [
    "##### Brief Note on Uploading Content\n",
    "Kiri's upload process simply passes the supplied documents along to the upload function of whichever DocStore you provided on instantiation.\n",
    "\n",
    "This allows you to customize the upload process with your own preprocessing steps by extending an existing DocStore class.\n",
    "\n",
    "In a similar vein, Kiri allows you to supply your own Document vectorization function to the DocStore upload -- however, that will be covered in a separate notebook with some other 'advanced' features."
   ]
  },
  {
   "cell_type": "markdown",
   "metadata": {},
   "source": [
    "### Searching\n",
    "\n",
    "Once you've uploaded content to the DocStore, you're ready to search. It's as simple as that.\n",
    "\n",
    "For an in-memory search, you can provide a list of IDs to narrow search down.\n",
    "However, all you *need* to provide is a query.\n",
    "Docs will be retrieved from the DocStore, and sent to the result processing function along with\n",
    "a query vector.\n",
    "\n",
    "When processing results, comparisons are performed between the query and document vectors to calculate\n",
    "each document's relevancy score."
   ]
  },
  {
   "cell_type": "code",
   "execution_count": 4,
   "metadata": {},
   "outputs": [
    {
     "name": "stdout",
     "output_type": "stream",
     "text": [
      "Results found: 1\n",
      "======\n",
      "Kiri Search Demo\n",
      " The Kiri Natural Language Engine is a high-level library for NLP tasks: a sweet suite of modules.\n",
      "Score: 0.5683653724383403\n",
      "------\n"
     ]
    }
   ],
   "source": [
    "results = kiri.search(\"What's Kiri?\", max_results=10, min_score=0.01)\n",
    "\n",
    "# If you haven't modified this, then... well, you're going to get one result.\n",
    "# Find some text you want to search yourself, and try making some Documents!\n",
    "\n",
    "print(f\"Results found: {results.total_results}\")\n",
    "print(\"======\")\n",
    "for res in results.results:\n",
    "    # You can access your attributes here.\n",
    "    print(res.document.attributes[\"title\"])\n",
    "    print(res.preview)\n",
    "    print(f\"Score: {str(res.score)}\")\n",
    "    print(\"------\")"
   ]
  },
  {
   "cell_type": "markdown",
   "metadata": {},
   "source": [
    "## What's Elastic?\n",
    "\n",
    "Elasticsearch is an open source search engine -- it's commonly used in enterprise.\n",
    "It's quick, scalable, and documents are schema-free. \n",
    "\n",
    "## Why use it with Kiri?\n",
    "\n",
    "Elastic provides a production-ready backend for search with very little overhead required.\n",
    "\n",
    "When used in combination with Kiri, you get all the benefits of Elastic, enhanced with Kiri's\n",
    "semantic processing.\n",
    "\n",
    "#### Setting up Elasticsearch\n",
    "##### With Docker\n",
    "There's a simple Docker one-liner that can be used to instantly set up Elasticsearch.\n",
    "`docker run -d -p 9200:9200 -e \"discovery.type=single-node\" elasticsearch:latest`\n",
    "\n",
    "The `-d` flag refers to detached mode, meaning it will run in the background. Omit `-d` to get logs in your terminal instance.\n",
    "\n",
    "If you'd like to host the Docker instance remotely, AWS has a small free-tier instance. It has 750 monthly hours, so you can leave it constantly running.\n",
    "\n",
    "##### Local only\n",
    "Refer to [this guide](https://www.elastic.co/guide/en/elasticsearch/reference/current/getting-started-install.html) to get Elasticsearch running locally on your computer.\n",
    "\n",
    "Once you've got it installed and running, it's easy to use with Kiri.\n",
    "\n",
    "#### Elastic-specific Kiri classes\n",
    "Kiri includes variants of its Document and DocStore classes (ElasticDocument and ElasticDocStore).\n",
    "These variants handle the necessary procsesing to turn a Document object into an Elastic-ready one,\n",
    "as well as back into an object when retrieved *from* Elasticsearch.\n",
    "\n",
    "In practice, this makes it incredibly easy to switch from a dev environment with `InMemorySearch` and standard `Documents` to an Elastic one ready for production."
   ]
  },
  {
   "cell_type": "code",
   "execution_count": 13,
   "metadata": {},
   "outputs": [],
   "source": [
    "from kiri import ElasticDocStore, ElasticDocument\n",
    "\n",
    "# An Elasticsearch index is essentially a database \n",
    "e_doc_store = ElasticDocStore(\"http://localhost:9200\", doc_class=ElasticDocument, \n",
    "                              index=\"kiri_example\")\n",
    "\n",
    "if api_key:\n",
    "    e_kiri = Kiri(e_doc_store, api_key=api_key)\n",
    "else:\n",
    "    e_kiri = Kiri(e_doc_store, local=True)\n",
    "\n",
    "# Making a document just like before.\n",
    "# This time, we'll use the ElasticDocument class.\n",
    "e_content = \"Kiri works with Elasticsearch as a backend. Nice.\"\n",
    "e_attrs = {\"title\": \"Kiri Elastic Demo\", \"foo\": \"bar\", \"url\": \"https://kiri.ai\"}\n",
    "\n",
    "e_doc = ElasticDocument(content=e_content, attributes=e_attrs)\n",
    "\n",
    "e_kiri.upload([e_doc])"
   ]
  },
  {
   "cell_type": "markdown",
   "metadata": {},
   "source": [
    "### Searching an ElasticDocStore\n",
    "\n",
    "Performing a search on an `ElasticDocStore` can be just as simple as the `InMemoryDocStore`. All you need is a query.\n",
    "\n",
    "Kiri defaults to creating an Elastic query that checks cosine similarity between document and query vectors.\n",
    "However, Elasticsearch includes capabilities to search via more complex queries. This will be covered in more detail in a separate notebook."
   ]
  },
  {
   "cell_type": "code",
   "execution_count": 17,
   "metadata": {},
   "outputs": [
    {
     "name": "stdout",
     "output_type": "stream",
     "text": [
      "Results found: 1\n",
      "======\n",
      "Kiri Elastic Demo\n",
      "Document Foo: bar\n",
      " Kiri works with Elasticsearch as a backend. Nice.\n",
      "Score: 0.44349044316815744\n",
      "------\n"
     ]
    }
   ],
   "source": [
    "# Easy...\n",
    "\n",
    "e_results = e_kiri.search(\"What backends does Kiri support?\", max_results=10, min_score=0.01)\n",
    "\n",
    "print(f\"Results found: {e_results.total_results}\")\n",
    "print(\"======\")\n",
    "for res in e_results.results:\n",
    "    print(res.document.attributes[\"title\"])\n",
    "    # Again, can print any attributes you added.\n",
    "    print(f\"Document Foo: {res.document.attributes['foo']}\")\n",
    "    print(res.preview)\n",
    "    print(f\"Score: {str(res.score)}\")\n",
    "    print(\"------\")"
   ]
  }
 ],
 "metadata": {
  "kernelspec": {
   "display_name": "Python 3",
   "language": "python",
   "name": "python3"
  },
  "language_info": {
   "codemirror_mode": {
    "name": "ipython",
    "version": 3
   },
   "file_extension": ".py",
   "mimetype": "text/x-python",
   "name": "python",
   "nbconvert_exporter": "python",
   "pygments_lexer": "ipython3",
   "version": "3.7.9"
  }
 },
 "nbformat": 4,
 "nbformat_minor": 4
}
