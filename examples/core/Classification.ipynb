{
 "cells": [
  {
   "cell_type": "markdown",
   "metadata": {},
   "source": [
    "# Kiri Core Example: Zero-Shot Classification\n",
    "\n",
    "## A brief intro\n",
    "\n",
    "Zero-shot classification is a relatively simple idea.\n",
    "As with standard classification, a model looks at input and assigns probabilities to a set of labels.\n",
    "However, with zero-shot, the model was not trained on any particular set of labels.\n",
    "This makes the classifier extremely flexible for a variety of use cases."
   ]
  },
  {
   "cell_type": "code",
   "execution_count": 3,
   "metadata": {},
   "outputs": [],
   "source": [
    "from kiri import Kiri\n",
    "\n",
    "kiri = Kiri(local=True)\n",
    "\n",
    "# An example set of labels, to do with classifying e.g. magazine articles.\n",
    "topic_labels = ['Science', 'Art', 'Politics', 'Food/Cooking']"
   ]
  },
  {
   "cell_type": "code",
   "execution_count": 4,
   "metadata": {},
   "outputs": [],
   "source": [
    "# Some example articles for classification\n",
    "\n",
    "# About the ISS, from Wikipedia\n",
    "article_1 = \"\"\"The International Space Station (ISS) is a modular space station (habitable artificial satellite) in low Earth orbit. It is a multinational collaborative project involving five participating space agencies: NASA (United States), Roscosmos (Russia), JAXA (Japan), ESA (Europe), and CSA (Canada). The ownership and use of the space station is established by intergovernmental treaties and agreements.[9] The station serves as a microgravity and space environment research laboratory in which scientific research is conducted in astrobiology, astronomy, meteorology, physics, and other fields. The ISS is suited for testing the spacecraft systems and equipment required for possible future long-duration missions to the Moon and Mars.\"\"\"\n",
    "\n",
    "# Intro to a soup recipe on the NYT\n",
    "article_2 = \"\"\"When there’s ground meat in the fridge and beans in the pantry, dinner almost cooks itself into a big pot of chili, the ingredients simmering together as if they had wills of their own. I make chili so often that not making it when everything is on hand feels like a betrayal of the muscle memory I’ve built up over many tomato-splattered years.\n",
    "\n",
    "But as much as I adore a spicy bowl of chili, there are nights when I’d rather have soup. Especially when I’ve got a bright, vegetable-focused soup on my mind, one that’s filled with white beans and winter greens, spiked with ginger and red-pepper flakes, and rounded out with only a little ground turkey.\"\"\"\n",
    "\n",
    "# Brexit news\n",
    "article_3 = \"\"\"The pro-independence Scottish National Party (SNP) demanded on Sunday that Prime Minister Boris Johnson pay billions of pounds in compensation to Scotland for the mounting costs and disruption of Brexit. Brexit has strained the bonds that tie together the United Kingdom: England and Wales voted to leave but London, Northern Ireland and Scotland voted to stay.\n",
    "\n",
    "The SNP, which wants independence for Scotland and is pushing for a second referendum, said Scottish fishermen faced grave disruption due to Brexit.\n",
    "\n",
    "Johnson’s Conservatives “must apologise to Scottish businesses and pay compensation to Scotland for the long-term damage they are doing to our economy - costing us billions in lost trade and growth,” said Ian Blackford, the SNP’s leader in the British parliament.\n",
    "\n",
    "Blackford cast Brexit as “an unnecessary act of economic vandalism, which has been inflicted against Scotland’s will”.\"\"\""
   ]
  },
  {
   "cell_type": "code",
   "execution_count": 6,
   "metadata": {},
   "outputs": [
    {
     "name": "stdout",
     "output_type": "stream",
     "text": [
      "Science\n"
     ]
    }
   ],
   "source": [
    "results = kiri.classify(article_1, topic_labels)\n",
    "label = max(results, key = results.get)\n",
    "print(label)"
   ]
  },
  {
   "cell_type": "code",
   "execution_count": 7,
   "metadata": {},
   "outputs": [
    {
     "name": "stdout",
     "output_type": "stream",
     "text": [
      "Food/Cooking\n"
     ]
    }
   ],
   "source": [
    "results = kiri.classify(article_2, topic_labels)\n",
    "label = max(results, key = results.get)\n",
    "print(label)"
   ]
  },
  {
   "cell_type": "code",
   "execution_count": 8,
   "metadata": {},
   "outputs": [
    {
     "name": "stdout",
     "output_type": "stream",
     "text": [
      "Politics\n"
     ]
    }
   ],
   "source": [
    "results = kiri.classify(article_3, topic_labels)\n",
    "label = max(results, key = results.get)\n",
    "print(label)"
   ]
  }
 ],
 "metadata": {
  "kernelspec": {
   "display_name": "Python 3",
   "language": "python",
   "name": "python3"
  },
  "language_info": {
   "codemirror_mode": {
    "name": "ipython",
    "version": 3
   },
   "file_extension": ".py",
   "mimetype": "text/x-python",
   "name": "python",
   "nbconvert_exporter": "python",
   "pygments_lexer": "ipython3",
   "version": "3.7.9"
  }
 },
 "nbformat": 4,
 "nbformat_minor": 4
}
