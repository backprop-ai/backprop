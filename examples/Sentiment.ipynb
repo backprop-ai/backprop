{
 "cells": [
  {
   "cell_type": "markdown",
   "metadata": {},
   "source": [
    "# Backprop Core Example: Sentiment Detection\n",
    "\n",
    "Detect the emotional sentiment of some provided text input.\n",
    "Use is simple: just pass in a string of text, and get back an emotion or list of emotions."
   ]
  },
  {
   "cell_type": "code",
   "execution_count": 1,
   "metadata": {},
   "outputs": [],
   "source": [
    "# Leave it as None to run locally\n",
    "api_key = None"
   ]
  },
  {
   "cell_type": "code",
   "execution_count": 2,
   "metadata": {},
   "outputs": [],
   "source": [
    "import backprop\n",
    "\n",
    "emotion = backprop.Emotion(api_key=api_key)"
   ]
  },
  {
   "cell_type": "code",
   "execution_count": 3,
   "metadata": {},
   "outputs": [],
   "source": [
    "# This is a 1-star review for 72 plastic spiders on Amazon.\n",
    "# I don't know either.\n",
    "negative_review = \"Do not waste your money! They do not look like the picture. Very disappointed, they do not look like the picture. They are very small and thinly made. Defiantly not worth $6.00 more like $2.00. I am returning them.\"\n",
    "\n",
    "# And a 5-star review for the same spiders.\n",
    "positive_review = \"As realistic as a plastic spider needs to be. These are fun spiders that will be perfect to decorate my Halloween costume, and would be effective in fake spider web. They are as realistic as a plastic spider needs to be, although I hope there aren't real spiders this big in New York. They have a small ring on them which is too big for my adult fingers but would maybe work on a child, they will help me fix them to my costume.\""
   ]
  },
  {
   "cell_type": "code",
   "execution_count": 4,
   "metadata": {},
   "outputs": [
    {
     "data": {
      "text/plain": [
       "'disappointment'"
      ]
     },
     "execution_count": 4,
     "metadata": {},
     "output_type": "execute_result"
    }
   ],
   "source": [
    "emotion(negative_review)"
   ]
  },
  {
   "cell_type": "code",
   "execution_count": 5,
   "metadata": {},
   "outputs": [
    {
     "data": {
      "text/plain": [
       "'amusement, optimism'"
      ]
     },
     "execution_count": 5,
     "metadata": {},
     "output_type": "execute_result"
    }
   ],
   "source": [
    "emotion(positive_review)"
   ]
  }
 ],
 "metadata": {
  "kernelspec": {
   "display_name": "Python 3",
   "language": "python",
   "name": "python3"
  },
  "language_info": {
   "codemirror_mode": {
    "name": "ipython",
    "version": 3
   },
   "file_extension": ".py",
   "mimetype": "text/x-python",
   "name": "python",
   "nbconvert_exporter": "python",
   "pygments_lexer": "ipython3",
   "version": "3.8.5"
  }
 },
 "nbformat": 4,
 "nbformat_minor": 4
}
