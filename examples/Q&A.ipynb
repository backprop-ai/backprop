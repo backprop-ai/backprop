{
 "cells": [
  {
   "cell_type": "markdown",
   "metadata": {},
   "source": [
    "# Backprop Core Example: Q&A\n",
    "\n",
    "Semantic search is a particularly valuable component for document-level Q&A.\n",
    "Using the base search, Backprop can narrow down the most relevant documents for a given query.\n",
    "From there, the document chunk that best suits the query can be determined to return an answer.\n",
    "\n",
    "Q&A can also take a string directly, and answer questions from that provided context."
   ]
  },
  {
   "cell_type": "code",
   "execution_count": 1,
   "metadata": {},
   "outputs": [],
   "source": [
    "# Leave it as None to run locally\n",
    "api_key = None"
   ]
  },
  {
   "cell_type": "code",
   "execution_count": 2,
   "metadata": {},
   "outputs": [],
   "source": [
    "import backprop\n",
    "\n",
    "qa = backprop.QA(api_key=api_key)"
   ]
  },
  {
   "cell_type": "code",
   "execution_count": 3,
   "metadata": {},
   "outputs": [],
   "source": [
    "# A context paragraph about the ISS, segments taken from Wikipedia.\n",
    "context = \"\"\"\n",
    "The International Space Station (ISS) is a modular space station (habitable artificial satellite) in low Earth orbit. It is a multinational collaborative project involving five participating space agencies: NASA (United States), Roscosmos (Russia), JAXA (Japan), ESA (Europe), and CSA (Canada).\n",
    "The station serves as a microgravity and space environment research laboratory in which scientific research is conducted in astrobiology, astronomy, meteorology, physics, and other fields.\n",
    "The station is divided into two sections: the Russian Orbital Segment (ROS), operated by Russia; and the United States Orbital Segment (USOS), which is shared by many nations.\n",
    "The first ISS component was launched in 1998, and the first long-term residents arrived on 2 November 2000.\n",
    "The Dragon spacecraft allows the return of pressurised cargo to Earth, which is used, for example, to repatriate scientific experiments for further analysis. As of September 2019, 239 astronauts, cosmonauts, and space tourists from 19 different nations have visited the space station, many of them multiple times; this includes 151 Americans, 47 Russians, nine Japanese, eight Canadians, and five Italians.\n",
    "\"\"\""
   ]
  },
  {
   "cell_type": "code",
   "execution_count": 4,
   "metadata": {},
   "outputs": [
    {
     "name": "stdout",
     "output_type": "stream",
     "text": [
      "1998\n",
      "2 November 2000\n",
      "Dragon\n",
      "astrobiology, astronomy, meteorology, physics, and other fields\n",
      "five\n"
     ]
    }
   ],
   "source": [
    "qs = [\"When was the first piece of the ISS launched?\",\n",
    "     \"When did the first astronauts get to the ISS?\",\n",
    "     \"Which spacecraft lets cargo return to Earth?\",\n",
    "     \"What do they study in the ISS?\",\n",
    "     \"How many space agencies operate the ISS?\"]\n",
    "\n",
    "for q in qs:\n",
    "    answer = qa(q, context=context)\n",
    "    print(answer)"
   ]
  },
  {
   "cell_type": "markdown",
   "metadata": {},
   "source": [
    "### Previous QA Context\n",
    "In the default example above, the question \"How many space agencies operate the ISS?\" returns a correct answer -- \"five\". However, we don't get any detail about what those sections are.\n",
    "\n",
    "Adding previous QA pairs (form of a (Q, A) tuple) means Backprop can be asked follow-up questions in a natural way."
   ]
  },
  {
   "cell_type": "code",
   "execution_count": 5,
   "metadata": {},
   "outputs": [],
   "source": [
    "# Asking the initial question\n",
    "first_q = \"How many space agencies operate the ISS?\"\n",
    "first_a = qa(first_q, context=context)\n",
    "qa_pairs = [(first_q, first_a)]"
   ]
  },
  {
   "cell_type": "code",
   "execution_count": 6,
   "metadata": {},
   "outputs": [
    {
     "name": "stdout",
     "output_type": "stream",
     "text": [
      "NASA (United States), Roscosmos (Russia), JAXA (Japan), ESA (Europe), and CSA (Canada)\n"
     ]
    }
   ],
   "source": [
    "# The follow up doesn't need to be explicit.\n",
    "# With the context given, \"Which are they?\" implies we are referring to the space agencies.\n",
    "\n",
    "follow_up = \"Which are they?\"\n",
    "follow_up_ans = qa(follow_up, context=context, prev_qa=qa_pairs)\n",
    "\n",
    "print(follow_up_ans)"
   ]
  }
 ],
 "metadata": {
  "kernelspec": {
   "display_name": "Python 3",
   "language": "python",
   "name": "python3"
  },
  "language_info": {
   "codemirror_mode": {
    "name": "ipython",
    "version": 3
   },
   "file_extension": ".py",
   "mimetype": "text/x-python",
   "name": "python",
   "nbconvert_exporter": "python",
   "pygments_lexer": "ipython3",
   "version": "3.8.5"
  }
 },
 "nbformat": 4,
 "nbformat_minor": 4
}
