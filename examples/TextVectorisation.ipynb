{
 "cells": [
  {
   "cell_type": "markdown",
   "metadata": {},
   "source": [
    "# Backprop Core Example: Text vectorisation\n",
    "\n",
    "Text vectorisation is a matter of turning variable sized text into a fixed size vector. This is useful because you can perform mathematical operations, such as comparison, on the vectors. Popular use cases include semantic search and customer intent detection."
   ]
  },
  {
   "cell_type": "markdown",
   "metadata": {},
   "source": [
    "## Why and how does it work?\n",
    "\n",
    "Everything inside a model is numbers. Say a model has to classify text. The way it does that is process the text to build an internal representation of it. This is then used to compute probabilities for available categories.\n",
    "\n",
    "In a way, every natural language model does text vectorisation. It is just not visible as output. This task is all about using models which have been explicitly trained to predict and output vectors."
   ]
  },
  {
   "cell_type": "markdown",
   "metadata": {},
   "source": [
    "## What do you do with a vector?\n",
    "\n",
    "A vector on its own is pretty much useless. It becomes useful when you have at least two vectors that have been computed by the same model.\n",
    "\n",
    "Once you have at least two vectors you can compare them. A common approach is to use cosine similarity, which calculates a value between -1 and 1. Our models have been trained to have cosine similarities mostly between 0 and 1, which makes it easy to score how similar a piece of text is to another.\n",
    "\n",
    "Let's see how one might use it for semantic search."
   ]
  },
  {
   "cell_type": "code",
   "execution_count": 1,
   "metadata": {},
   "outputs": [],
   "source": [
    "import backprop"
   ]
  },
  {
   "cell_type": "code",
   "execution_count": 2,
   "metadata": {},
   "outputs": [],
   "source": [
    "# Set your API key to do inference on Backprop's platform\n",
    "# Leave as None to run locally\n",
    "api_key = None"
   ]
  },
  {
   "cell_type": "markdown",
   "metadata": {},
   "source": [
    "See what models are available."
   ]
  },
  {
   "cell_type": "code",
   "execution_count": 3,
   "metadata": {},
   "outputs": [
    {
     "name": "stdout",
     "output_type": "stream",
     "text": [
      "Name                     msmarco-distilroberta-base-v2\n",
      "Description              This English model is a standard distilroberta-base model from the Sentence Transformers repo, which has been trained on the MS MARCO dataset.\n",
      "Supported tasks          ['text-vectorisation']\n",
      "Finetunable tasks        ['text-vectorisation']\n",
      "----------\n",
      "Name                     distiluse-base-multilingual-cased-v2\n",
      "Description              This model is based off Sentence-Transformer's distiluse-base-multilingual-cased multilingual model that has been extended to understand sentence embeddings in 50+ languages.\n",
      "Supported tasks          ['text-vectorisation']\n",
      "Finetunable tasks        ['text-vectorisation']\n",
      "----------\n",
      "Name                     clip-vit-b32\n",
      "Alias                    clip\n",
      "Description              OpenAI's recently released CLIP model — when supplied with a list of labels and an image, CLIP can accurately predict which labels best fit the provided image.\n",
      "Supported tasks          ['image-classification', 'image-vectorisation', 'text-vectorisation', 'image-text-vectorisation']\n",
      "Finetunable tasks        ['image-vectorisation', 'text-vectorisation', 'image-text-vectorisation']\n",
      "----------\n"
     ]
    }
   ],
   "source": [
    "backprop.TextVectorisation.list_models(display=True)"
   ]
  },
  {
   "cell_type": "code",
   "execution_count": 4,
   "metadata": {},
   "outputs": [],
   "source": [
    "tv = backprop.TextVectorisation(api_key=api_key)"
   ]
  },
  {
   "cell_type": "markdown",
   "metadata": {},
   "source": [
    "Start the task with `backprop.TextVectorisation(\"multilingual\")` to compute vectors of a model that understands 100+ languages."
   ]
  },
  {
   "cell_type": "code",
   "execution_count": 5,
   "metadata": {},
   "outputs": [],
   "source": [
    "# A context paragraph about the ISS, segments taken from Wikipedia.\n",
    "context = \"\"\"The International Space Station (ISS) is a modular space station (habitable artificial satellite) in low Earth orbit. It is a multinational collaborative project involving five participating space agencies: NASA (United States), Roscosmos (Russia), JAXA (Japan), ESA (Europe), and CSA (Canada).\n",
    "The station serves as a microgravity and space environment research laboratory in which scientific research is conducted in astrobiology, astronomy, meteorology, physics, and other fields.\n",
    "The station is divided into two sections: the Russian Orbital Segment (ROS), operated by Russia; and the United States Orbital Segment (USOS), which is shared by many nations.\n",
    "The first ISS component was launched in 1998, and the first long-term residents arrived on 2 November 2000.\n",
    "The Dragon spacecraft allows the return of pressurised cargo to Earth, which is used, for example, to repatriate scientific experiments for further analysis. As of September 2019, 239 astronauts, cosmonauts, and space tourists from 19 different nations have visited the space station, many of them multiple times; this includes 151 Americans, 47 Russians, nine Japanese, eight Canadians, and five Italians.\"\"\""
   ]
  },
  {
   "cell_type": "code",
   "execution_count": 6,
   "metadata": {},
   "outputs": [
    {
     "data": {
      "text/plain": [
       "['The International Space Station (ISS) is a modular space station (habitable artificial satellite) in low Earth orbit. It is a multinational collaborative project involving five participating space agencies: NASA (United States), Roscosmos (Russia), JAXA (Japan), ESA (Europe), and CSA (Canada).',\n",
       " 'The station serves as a microgravity and space environment research laboratory in which scientific research is conducted in astrobiology, astronomy, meteorology, physics, and other fields.',\n",
       " 'The station is divided into two sections: the Russian Orbital Segment (ROS), operated by Russia; and the United States Orbital Segment (USOS), which is shared by many nations.',\n",
       " 'The first ISS component was launched in 1998, and the first long-term residents arrived on 2 November 2000.',\n",
       " 'The Dragon spacecraft allows the return of pressurised cargo to Earth, which is used, for example, to repatriate scientific experiments for further analysis. As of September 2019, 239 astronauts, cosmonauts, and space tourists from 19 different nations have visited the space station, many of them multiple times; this includes 151 Americans, 47 Russians, nine Japanese, eight Canadians, and five Italians.']"
      ]
     },
     "execution_count": 6,
     "metadata": {},
     "output_type": "execute_result"
    }
   ],
   "source": [
    "sentences = context.split(\"\\n\")\n",
    "sentences"
   ]
  },
  {
   "cell_type": "markdown",
   "metadata": {},
   "source": [
    "We have taken a paragraph about the ISS and turned into roughly a list of sentences.\n",
    "\n",
    "Next, we will calculate a vector for each sentence."
   ]
  },
  {
   "cell_type": "code",
   "execution_count": 7,
   "metadata": {},
   "outputs": [],
   "source": [
    "sentence_vectors = tv(sentences)"
   ]
  },
  {
   "cell_type": "code",
   "execution_count": 8,
   "metadata": {},
   "outputs": [],
   "source": [
    "import operator\n",
    "def search_sentences(question):\n",
    "    question_vector = tv(question)\n",
    "    # Built in utility function\n",
    "    ranked_sentences = backprop.cosine_similarity(question_vector, sentence_vectors)\n",
    "    index, value = max(enumerate(ranked_sentences), key=operator.itemgetter(1))\n",
    "    \n",
    "    print(sentences[index])\n",
    "    print(\"Score:\", value)\n",
    "    "
   ]
  },
  {
   "cell_type": "markdown",
   "metadata": {},
   "source": [
    "This function calculates a vector for our question and compares it with the sentence vectors to find one with the highest score."
   ]
  },
  {
   "cell_type": "code",
   "execution_count": 9,
   "metadata": {},
   "outputs": [
    {
     "name": "stdout",
     "output_type": "stream",
     "text": [
      "The first ISS component was launched in 1998, and the first long-term residents arrived on 2 November 2000.\n",
      "Score: 0.8193097114562988\n"
     ]
    }
   ],
   "source": [
    "search_sentences(\"When was the first piece of the ISS launched?\")"
   ]
  },
  {
   "cell_type": "code",
   "execution_count": 10,
   "metadata": {},
   "outputs": [
    {
     "name": "stdout",
     "output_type": "stream",
     "text": [
      "The International Space Station (ISS) is a modular space station (habitable artificial satellite) in low Earth orbit. It is a multinational collaborative project involving five participating space agencies: NASA (United States), Roscosmos (Russia), JAXA (Japan), ESA (Europe), and CSA (Canada).\n",
      "Score: 0.6959230899810791\n"
     ]
    }
   ],
   "source": [
    "search_sentences(\"How many space agencies operate the ISS?\")"
   ]
  }
 ],
 "metadata": {
  "kernelspec": {
   "display_name": "Python 3",
   "language": "python",
   "name": "python3"
  },
  "language_info": {
   "codemirror_mode": {
    "name": "ipython",
    "version": 3
   },
   "file_extension": ".py",
   "mimetype": "text/x-python",
   "name": "python",
   "nbconvert_exporter": "python",
   "pygments_lexer": "ipython3",
   "version": "3.8.5"
  }
 },
 "nbformat": 4,
 "nbformat_minor": 4
}
